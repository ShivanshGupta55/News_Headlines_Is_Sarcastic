{
  "nbformat": 4,
  "nbformat_minor": 0,
  "metadata": {
    "colab": {
      "name": "Is_Sarcastic?.ipynb",
      "provenance": [],
      "authorship_tag": "ABX9TyNndiiMgEDrSU3QpHCRVJrX",
      "include_colab_link": true
    },
    "kernelspec": {
      "name": "python3",
      "display_name": "Python 3"
    },
    "accelerator": "GPU"
  },
  "cells": [
    {
      "cell_type": "markdown",
      "metadata": {
        "id": "view-in-github",
        "colab_type": "text"
      },
      "source": [
        "<a href=\"https://colab.research.google.com/github/ShivanshGupta55/News_Headlines_Is_Sarcastic/blob/master/Is_Sarcastic%3F.ipynb\" target=\"_parent\"><img src=\"https://colab.research.google.com/assets/colab-badge.svg\" alt=\"Open In Colab\"/></a>"
      ]
    },
    {
      "cell_type": "code",
      "metadata": {
        "id": "p0vetGtl3lWg",
        "colab_type": "code",
        "outputId": "9c67576f-498e-49a5-c509-f756330745af",
        "colab": {
          "base_uri": "https://localhost:8080/",
          "height": 63
        }
      },
      "source": [
        "import tensorflow as tf\n",
        "tf.enable_eager_execution()"
      ],
      "execution_count": 1,
      "outputs": [
        {
          "output_type": "display_data",
          "data": {
            "text/html": [
              "<p style=\"color: red;\">\n",
              "The default version of TensorFlow in Colab will soon switch to TensorFlow 2.x.<br>\n",
              "We recommend you <a href=\"https://www.tensorflow.org/guide/migrate\" target=\"_blank\">upgrade</a> now \n",
              "or ensure your notebook will continue to use TensorFlow 1.x via the <code>%tensorflow_version 1.x</code> magic:\n",
              "<a href=\"https://colab.research.google.com/notebooks/tensorflow_version.ipynb\" target=\"_blank\">more info</a>.</p>\n"
            ],
            "text/plain": [
              "<IPython.core.display.HTML object>"
            ]
          },
          "metadata": {
            "tags": []
          }
        }
      ]
    },
    {
      "cell_type": "code",
      "metadata": {
        "id": "Ih1fgez94AV8",
        "colab_type": "code",
        "outputId": "a8f0aa32-85ef-40f1-d991-35a436cbb1f3",
        "colab": {
          "base_uri": "https://localhost:8080/",
          "height": 210
        }
      },
      "source": [
        "#Downloading Dataset\n",
        "!wget --no-check-certificate \\\n",
        "    https://storage.googleapis.com/laurencemoroney-blog.appspot.com/sarcasm.json \\\n",
        "    -O /tmp/sarcasm.json"
      ],
      "execution_count": 2,
      "outputs": [
        {
          "output_type": "stream",
          "text": [
            "--2020-03-24 07:56:13--  https://storage.googleapis.com/laurencemoroney-blog.appspot.com/sarcasm.json\n",
            "Resolving storage.googleapis.com (storage.googleapis.com)... 172.253.63.128, 2607:f8b0:4004:811::2010\n",
            "Connecting to storage.googleapis.com (storage.googleapis.com)|172.253.63.128|:443... connected.\n",
            "HTTP request sent, awaiting response... 200 OK\n",
            "Length: 5643545 (5.4M) [application/json]\n",
            "Saving to: ‘/tmp/sarcasm.json’\n",
            "\n",
            "/tmp/sarcasm.json   100%[===================>]   5.38M  --.-KB/s    in 0.03s   \n",
            "\n",
            "2020-03-24 07:56:19 (158 MB/s) - ‘/tmp/sarcasm.json’ saved [5643545/5643545]\n",
            "\n"
          ],
          "name": "stdout"
        }
      ]
    },
    {
      "cell_type": "code",
      "metadata": {
        "id": "5Yb4Ii8j4o_G",
        "colab_type": "code",
        "colab": {}
      },
      "source": [
        "import json\n",
        "with open(\"/tmp/sarcasm.json\",'r') as f:\n",
        "  datastore =  json.load(f)"
      ],
      "execution_count": 0,
      "outputs": []
    },
    {
      "cell_type": "code",
      "metadata": {
        "id": "bLZNmYv148xX",
        "colab_type": "code",
        "colab": {}
      },
      "source": [
        "#Extracting features and labels\n",
        "sentences = []\n",
        "labels = []\n",
        "\n",
        "for item in datastore:\n",
        "  sentences.append(item['headline'])\n",
        "  labels.append(item['is_sarcastic'])"
      ],
      "execution_count": 0,
      "outputs": []
    },
    {
      "cell_type": "code",
      "metadata": {
        "id": "Oa6ikpFJ5LMG",
        "colab_type": "code",
        "colab": {}
      },
      "source": [
        "#Separating training and test data\n",
        "import numpy as np\n",
        "training_size = 20000\n",
        "training_sentences = sentences[0:training_size]\n",
        "testing_sentences = sentences[training_size:]\n",
        "training_labels = np.array(labels[0:training_size])\n",
        "testing_labels = np.array(labels[training_size:])"
      ],
      "execution_count": 0,
      "outputs": []
    },
    {
      "cell_type": "code",
      "metadata": {
        "id": "tYWFy1Z65shF",
        "colab_type": "code",
        "colab": {}
      },
      "source": [
        "#initializing variables\n",
        "vocab_size = 10000\n",
        "embed_dim = 16\n",
        "max_length = 120\n",
        "padding_type = 'post' \n",
        "trunc_type = 'post'\n",
        "oov_tok = \"<OOV>\"\n",
        "\n",
        "from tensorflow.keras.preprocessing.text import Tokenizer\n",
        "from tensorflow.keras.preprocessing.sequence import pad_sequences\n",
        "\n",
        "tokenizer = Tokenizer(num_words=vocab_size, oov_token = oov_tok)\n",
        "tokenizer.fit_on_texts(training_sentences)\n",
        "word_index = tokenizer.word_index\n",
        "training_sequences = tokenizer.texts_to_sequences(training_sentences)\n",
        "training_padded = np.array(pad_sequences(training_sequences, maxlen = max_length, truncating = trunc_type, padding=padding_type))\n",
        "\n",
        "testing_sequences = tokenizer.texts_to_sequences(testing_sentences)\n",
        "testing_padded = np.array(pad_sequences(testing_sequences, maxlen = max_length, truncating=trunc_type, padding=padding_type))"
      ],
      "execution_count": 0,
      "outputs": []
    },
    {
      "cell_type": "code",
      "metadata": {
        "id": "s86DP0_i5726",
        "colab_type": "code",
        "outputId": "553286d9-cf8e-4e61-9911-053def497e67",
        "colab": {
          "base_uri": "https://localhost:8080/",
          "height": 298
        }
      },
      "source": [
        "#Define model\n",
        "model = tf.keras.Sequential([\n",
        "                             tf.keras.layers.Embedding(vocab_size, embed_dim, input_length = max_length),\n",
        "                             tf.keras.layers.GlobalAveragePooling1D(),\n",
        "                             tf.keras.layers.Dense(24, activation= 'relu'),\n",
        "                             tf.keras.layers.Dense(1, activation = 'sigmoid')])\n",
        "model.compile(loss= 'binary_crossentropy', optimizer = 'adam', metrics = ['accuracy'])\n",
        "model.summary()"
      ],
      "execution_count": 32,
      "outputs": [
        {
          "output_type": "stream",
          "text": [
            "Model: \"sequential_5\"\n",
            "_________________________________________________________________\n",
            "Layer (type)                 Output Shape              Param #   \n",
            "=================================================================\n",
            "embedding_5 (Embedding)      (None, 120, 16)           160000    \n",
            "_________________________________________________________________\n",
            "global_average_pooling1d_2 ( (None, 16)                0         \n",
            "_________________________________________________________________\n",
            "dense_10 (Dense)             (None, 24)                408       \n",
            "_________________________________________________________________\n",
            "dense_11 (Dense)             (None, 1)                 25        \n",
            "=================================================================\n",
            "Total params: 160,433\n",
            "Trainable params: 160,433\n",
            "Non-trainable params: 0\n",
            "_________________________________________________________________\n"
          ],
          "name": "stdout"
        }
      ]
    },
    {
      "cell_type": "code",
      "metadata": {
        "id": "BQibFrOo5_B6",
        "colab_type": "code",
        "outputId": "e0358f7f-c687-4cbf-ac36-caf25d1869a0",
        "colab": {
          "base_uri": "https://localhost:8080/",
          "height": 386
        }
      },
      "source": [
        "num_epochs = 10\n",
        "history = model.fit(training_padded, training_labels, epochs=num_epochs, validation_data = (testing_padded,testing_labels), verbose = 2)"
      ],
      "execution_count": 33,
      "outputs": [
        {
          "output_type": "stream",
          "text": [
            "Train on 20000 samples, validate on 6709 samples\n",
            "Epoch 1/10\n",
            "20000/20000 - 4s - loss: 0.6818 - acc: 0.5580 - val_loss: 0.6595 - val_acc: 0.6005\n",
            "Epoch 2/10\n",
            "20000/20000 - 4s - loss: 0.5172 - acc: 0.7692 - val_loss: 0.4180 - val_acc: 0.8259\n",
            "Epoch 3/10\n",
            "20000/20000 - 3s - loss: 0.3454 - acc: 0.8611 - val_loss: 0.3652 - val_acc: 0.8462\n",
            "Epoch 4/10\n",
            "20000/20000 - 3s - loss: 0.2882 - acc: 0.8855 - val_loss: 0.3499 - val_acc: 0.8515\n",
            "Epoch 5/10\n",
            "20000/20000 - 4s - loss: 0.2496 - acc: 0.9023 - val_loss: 0.3473 - val_acc: 0.8469\n",
            "Epoch 6/10\n",
            "20000/20000 - 4s - loss: 0.2227 - acc: 0.9128 - val_loss: 0.3530 - val_acc: 0.8504\n",
            "Epoch 7/10\n",
            "20000/20000 - 3s - loss: 0.1995 - acc: 0.9226 - val_loss: 0.3464 - val_acc: 0.8556\n",
            "Epoch 8/10\n",
            "20000/20000 - 4s - loss: 0.1794 - acc: 0.9324 - val_loss: 0.3550 - val_acc: 0.8556\n",
            "Epoch 9/10\n",
            "20000/20000 - 4s - loss: 0.1630 - acc: 0.9384 - val_loss: 0.3663 - val_acc: 0.8544\n",
            "Epoch 10/10\n",
            "20000/20000 - 3s - loss: 0.1489 - acc: 0.9452 - val_loss: 0.3835 - val_acc: 0.8514\n"
          ],
          "name": "stdout"
        }
      ]
    },
    {
      "cell_type": "code",
      "metadata": {
        "id": "OrQmTgXp6DW7",
        "colab_type": "code",
        "outputId": "f8fd22e9-6743-46fa-a802-267b1c2ce50f",
        "colab": {
          "base_uri": "https://localhost:8080/",
          "height": 542
        }
      },
      "source": [
        "#Visualizing \n",
        "import matplotlib.pyplot as plt\n",
        "\n",
        "def plot_graphs(history, string):\n",
        "  plt.plot(history.history[string])\n",
        "  plt.plot(history.history['val_'+string])\n",
        "  plt.xlabel('epochs')\n",
        "  plt.ylabel(string)\n",
        "  plt.legend([string, 'val_'+string])\n",
        "  plt.show()\n",
        "\n",
        "plot_graphs(history, \"acc\")\n",
        "plot_graphs(history, \"loss\")\n"
      ],
      "execution_count": 34,
      "outputs": [
        {
          "output_type": "display_data",
          "data": {
            "image/png": "[encoded data removed]",
            "text/plain": [
              "<Figure size 432x288 with 1 Axes>"
            ]
          },
          "metadata": {
            "tags": []
          }
        },
        {
          "output_type": "display_data",
          "data": {
            "image/png": "[encoded data removed]",
            "text/plain": [
              "<Figure size 432x288 with 1 Axes>"
            ]
          },
          "metadata": {
            "tags": []
          }
        }
      ]
    },
    {
      "cell_type": "code",
      "metadata": {
        "id": "wMi1fyVm9xVw",
        "colab_type": "code",
        "colab": {
          "base_uri": "https://localhost:8080/",
          "height": 298
        },
        "outputId": "6f24c292-00b7-4deb-cf5b-65fe6621d43a"
      },
      "source": [
        "#Define model with LSTM\n",
        "model2 = tf.keras.Sequential([\n",
        "                             tf.keras.layers.Embedding(vocab_size, embed_dim, input_length = max_length),\n",
        "                             tf.keras.layers.Bidirectional(tf.keras.layers.LSTM(32)),\n",
        "                             tf.keras.layers.Dense(24, activation= 'relu'),\n",
        "                             tf.keras.layers.Dense(1, activation = 'sigmoid')])\n",
        "model2.compile(loss= 'binary_crossentropy', optimizer = 'adam', metrics = ['accuracy'])\n",
        "model2.summary()"
      ],
      "execution_count": 35,
      "outputs": [
        {
          "output_type": "stream",
          "text": [
            "Model: \"sequential_6\"\n",
            "_________________________________________________________________\n",
            "Layer (type)                 Output Shape              Param #   \n",
            "=================================================================\n",
            "embedding_6 (Embedding)      (None, 120, 16)           160000    \n",
            "_________________________________________________________________\n",
            "bidirectional_2 (Bidirection (None, 64)                12544     \n",
            "_________________________________________________________________\n",
            "dense_12 (Dense)             (None, 24)                1560      \n",
            "_________________________________________________________________\n",
            "dense_13 (Dense)             (None, 1)                 25        \n",
            "=================================================================\n",
            "Total params: 174,129\n",
            "Trainable params: 174,129\n",
            "Non-trainable params: 0\n",
            "_________________________________________________________________\n"
          ],
          "name": "stdout"
        }
      ]
    },
    {
      "cell_type": "code",
      "metadata": {
        "id": "g3huu9dria3V",
        "colab_type": "code",
        "colab": {
          "base_uri": "https://localhost:8080/",
          "height": 386
        },
        "outputId": "3bed9a70-d2e4-49f3-83ec-c3e2d96296ff"
      },
      "source": [
        "history2 = model2.fit(training_padded, training_labels, epochs=num_epochs, validation_data = (testing_padded,testing_labels), verbose = 2)"
      ],
      "execution_count": 36,
      "outputs": [
        {
          "output_type": "stream",
          "text": [
            "Train on 20000 samples, validate on 6709 samples\n",
            "Epoch 1/10\n",
            "20000/20000 - 280s - loss: 0.4127 - acc: 0.7954 - val_loss: 0.3314 - val_acc: 0.8591\n",
            "Epoch 2/10\n",
            "20000/20000 - 280s - loss: 0.2260 - acc: 0.9078 - val_loss: 0.3496 - val_acc: 0.8560\n",
            "Epoch 3/10\n",
            "20000/20000 - 279s - loss: 0.1618 - acc: 0.9384 - val_loss: 0.4032 - val_acc: 0.8483\n",
            "Epoch 4/10\n",
            "20000/20000 - 282s - loss: 0.1092 - acc: 0.9609 - val_loss: 0.4874 - val_acc: 0.8432\n",
            "Epoch 5/10\n",
            "20000/20000 - 284s - loss: 0.0704 - acc: 0.9761 - val_loss: 0.5392 - val_acc: 0.8447\n",
            "Epoch 6/10\n",
            "20000/20000 - 289s - loss: 0.0429 - acc: 0.9857 - val_loss: 0.7151 - val_acc: 0.8386\n",
            "Epoch 7/10\n",
            "20000/20000 - 289s - loss: 0.0305 - acc: 0.9904 - val_loss: 0.7351 - val_acc: 0.8374\n",
            "Epoch 8/10\n",
            "20000/20000 - 279s - loss: 0.0213 - acc: 0.9931 - val_loss: 0.8669 - val_acc: 0.8347\n",
            "Epoch 9/10\n",
            "20000/20000 - 273s - loss: 0.0167 - acc: 0.9946 - val_loss: 1.0149 - val_acc: 0.8314\n",
            "Epoch 10/10\n",
            "20000/20000 - 287s - loss: 0.0120 - acc: 0.9961 - val_loss: 1.0472 - val_acc: 0.8293\n"
          ],
          "name": "stdout"
        }
      ]
    },
    {
      "cell_type": "code",
      "metadata": {
        "id": "p0YXO-hBidct",
        "colab_type": "code",
        "colab": {
          "base_uri": "https://localhost:8080/",
          "height": 541
        },
        "outputId": "c486689b-2db6-4d22-a0d3-9e7503b08dcd"
      },
      "source": [
        "plot_graphs(history2, \"acc\")\n",
        "plot_graphs(history2, \"loss\")"
      ],
      "execution_count": 37,
      "outputs": [
        {
          "output_type": "display_data",
          "data": {
            "image/png": "[encoded data removed]",
            "text/plain": [
              "<Figure size 432x288 with 1 Axes>"
            ]
          },
          "metadata": {
            "tags": []
          }
        },
        {
          "output_type": "display_data",
          "data": {
            "image/png": "[encoded data removed]",
            "text/plain": [
              "<Figure size 432x288 with 1 Axes>"
            ]
          },
          "metadata": {
            "tags": []
          }
        }
      ]
    },
    {
      "cell_type": "code",
      "metadata": {
        "id": "8mvS3Tvdjqbg",
        "colab_type": "code",
        "colab": {
          "base_uri": "https://localhost:8080/",
          "height": 334
        },
        "outputId": "1aa32daa-8301-4ebd-d78f-86460b12f3dc"
      },
      "source": [
        "#Define model with Convolution\n",
        "model3 = tf.keras.Sequential([\n",
        "                             tf.keras.layers.Embedding(vocab_size, embed_dim, input_length = max_length),\n",
        "                             tf.keras.layers.Conv1D(128,5, activation='relu'),\n",
        "                             tf.keras.layers.GlobalMaxPool1D(),\n",
        "                             tf.keras.layers.Dense(24, activation= 'relu'),\n",
        "                             tf.keras.layers.Dense(1, activation = 'sigmoid')])\n",
        "model3.compile(loss= 'binary_crossentropy', optimizer = 'adam', metrics = ['accuracy'])\n",
        "model3.summary()"
      ],
      "execution_count": 38,
      "outputs": [
        {
          "output_type": "stream",
          "text": [
            "Model: \"sequential_7\"\n",
            "_________________________________________________________________\n",
            "Layer (type)                 Output Shape              Param #   \n",
            "=================================================================\n",
            "embedding_7 (Embedding)      (None, 120, 16)           160000    \n",
            "_________________________________________________________________\n",
            "conv1d_1 (Conv1D)            (None, 116, 128)          10368     \n",
            "_________________________________________________________________\n",
            "global_max_pooling1d_1 (Glob (None, 128)               0         \n",
            "_________________________________________________________________\n",
            "dense_14 (Dense)             (None, 24)                3096      \n",
            "_________________________________________________________________\n",
            "dense_15 (Dense)             (None, 1)                 25        \n",
            "=================================================================\n",
            "Total params: 173,489\n",
            "Trainable params: 173,489\n",
            "Non-trainable params: 0\n",
            "_________________________________________________________________\n"
          ],
          "name": "stdout"
        }
      ]
    },
    {
      "cell_type": "code",
      "metadata": {
        "id": "6E9enJUGk3HZ",
        "colab_type": "code",
        "colab": {
          "base_uri": "https://localhost:8080/",
          "height": 386
        },
        "outputId": "9c086608-2989-40c3-c757-a9ac90f72c36"
      },
      "source": [
        "history3 = model3.fit(training_padded, training_labels, epochs=num_epochs, validation_data = (testing_padded,testing_labels), verbose = 2)"
      ],
      "execution_count": 39,
      "outputs": [
        {
          "output_type": "stream",
          "text": [
            "Train on 20000 samples, validate on 6709 samples\n",
            "Epoch 1/10\n",
            "20000/20000 - 9s - loss: 0.4373 - acc: 0.7825 - val_loss: 0.3522 - val_acc: 0.8460\n",
            "Epoch 2/10\n",
            "20000/20000 - 4s - loss: 0.2249 - acc: 0.9127 - val_loss: 0.3658 - val_acc: 0.8474\n",
            "Epoch 3/10\n",
            "20000/20000 - 4s - loss: 0.1158 - acc: 0.9582 - val_loss: 0.4415 - val_acc: 0.8416\n",
            "Epoch 4/10\n",
            "20000/20000 - 4s - loss: 0.0444 - acc: 0.9868 - val_loss: 0.5775 - val_acc: 0.8377\n",
            "Epoch 5/10\n",
            "20000/20000 - 4s - loss: 0.0144 - acc: 0.9961 - val_loss: 0.6961 - val_acc: 0.8393\n",
            "Epoch 6/10\n",
            "20000/20000 - 4s - loss: 0.0048 - acc: 0.9990 - val_loss: 0.8006 - val_acc: 0.8401\n",
            "Epoch 7/10\n",
            "20000/20000 - 4s - loss: 0.0020 - acc: 0.9995 - val_loss: 0.8832 - val_acc: 0.8392\n",
            "Epoch 8/10\n",
            "20000/20000 - 4s - loss: 0.0012 - acc: 0.9998 - val_loss: 0.9665 - val_acc: 0.8423\n",
            "Epoch 9/10\n",
            "20000/20000 - 4s - loss: 0.0011 - acc: 0.9995 - val_loss: 1.0240 - val_acc: 0.8411\n",
            "Epoch 10/10\n",
            "20000/20000 - 4s - loss: 0.0014 - acc: 0.9995 - val_loss: 1.1046 - val_acc: 0.8386\n"
          ],
          "name": "stdout"
        }
      ]
    },
    {
      "cell_type": "code",
      "metadata": {
        "id": "_MhaFMIik6fJ",
        "colab_type": "code",
        "colab": {
          "base_uri": "https://localhost:8080/",
          "height": 541
        },
        "outputId": "a75de57c-e3ac-4f4c-ab4f-e18e8cf5ccc8"
      },
      "source": [
        "plot_graphs(history3, \"acc\")\n",
        "plot_graphs(history3, \"loss\")"
      ],
      "execution_count": 40,
      "outputs": [
        {
          "output_type": "display_data",
          "data": {
            "image/png": "[encoded data removed]",
            "text/plain": [
              "<Figure size 432x288 with 1 Axes>"
            ]
          },
          "metadata": {
            "tags": []
          }
        },
        {
          "output_type": "display_data",
          "data": {
            "image/png": "[encoded data removed]",
            "text/plain": [
              "<Figure size 432x288 with 1 Axes>"
            ]
          },
          "metadata": {
            "tags": []
          }
        }
      ]
    },
    {
      "cell_type": "code",
      "metadata": {
        "id": "sAggmbX3lGyZ",
        "colab_type": "code",
        "colab": {}
      },
      "source": [
        ""
      ],
      "execution_count": 0,
      "outputs": []
    }
  ]
}